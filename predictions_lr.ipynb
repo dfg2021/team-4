{
 "cells": [
  {
   "cell_type": "code",
   "execution_count": 30,
   "id": "rural-running",
   "metadata": {},
   "outputs": [],
   "source": [
    "import pandas as pd\n",
    "import numpy as np"
   ]
  },
  {
   "cell_type": "code",
   "execution_count": 19,
   "id": "described-words",
   "metadata": {},
   "outputs": [
    {
     "name": "stderr",
     "output_type": "stream",
     "text": [
      "/Users/niraj/Documents/VirtualEnvs/globaldl/lib/python3.9/site-packages/IPython/core/interactiveshell.py:3165: DtypeWarning: Columns (212) have mixed types.Specify dtype option on import or set low_memory=False.\n",
      "  has_raised = await self.run_ast_nodes(code_ast.body, cell_name,\n"
     ]
    }
   ],
   "source": [
    "df = pd.read_csv(\"modified_imputed_data.csv\", index_col=0)"
   ]
  },
  {
   "cell_type": "code",
   "execution_count": 20,
   "id": "forced-consumption",
   "metadata": {},
   "outputs": [
    {
     "data": {
      "text/plain": [
       "Index(['Unnamed: 0.1', 'Value', 'target_variable', 'SeriesCode_DC_TOF_SCHIPSL',\n",
       "       'SeriesCode_SE_ACC_HNDWSH', 'SeriesCode_SE_ACS_CMPTR',\n",
       "       'SeriesCode_SE_ACS_ELECT', 'SeriesCode_SE_ACS_H2O',\n",
       "       'SeriesCode_SE_ACS_INTNT', 'SeriesCode_SE_ACS_SANIT',\n",
       "       ...\n",
       "       'Type of skill_PCPR', 'Type of skill_SKILL_MATH',\n",
       "       'Type of skill_SKILL_READ', 'Type of skill_SOFT', 'Type of skill_TRAF',\n",
       "       'Units_CON_USD', 'Units_PERCENT', 'Units_Ratio', 'Footnote',\n",
       "       'TimePeriod'],\n",
       "      dtype='object', length=213)"
      ]
     },
     "execution_count": 20,
     "metadata": {},
     "output_type": "execute_result"
    }
   ],
   "source": [
    "df.columns"
   ]
  },
  {
   "cell_type": "code",
   "execution_count": 21,
   "id": "latter-retention",
   "metadata": {},
   "outputs": [
    {
     "name": "stdout",
     "output_type": "stream",
     "text": [
      "(645, 213)\n",
      "(120334, 213)\n"
     ]
    }
   ],
   "source": [
    "test = df[df['TimePeriod'] > 2018]\n",
    "train = df[df['TimePeriod'] <= 2018]\n",
    "print(test.shape)\n",
    "print(train.shape)"
   ]
  },
  {
   "cell_type": "code",
   "execution_count": 26,
   "id": "private-engineering",
   "metadata": {},
   "outputs": [],
   "source": [
    "Xtrain = train.drop([\"Unnamed: 0.1\", \"target_variable\", \"Footnote\"], axis=1).values\n",
    "ytrain = train[[\"target_variable\"]].values"
   ]
  },
  {
   "cell_type": "code",
   "execution_count": 27,
   "id": "alleged-actor",
   "metadata": {},
   "outputs": [],
   "source": [
    "Xtest = test.drop([\"Unnamed: 0.1\", \"target_variable\", \"Footnote\"], axis=1).values\n",
    "ytest = test[[\"target_variable\"]].values"
   ]
  },
  {
   "cell_type": "code",
   "execution_count": 31,
   "id": "common-leisure",
   "metadata": {},
   "outputs": [
    {
     "name": "stderr",
     "output_type": "stream",
     "text": [
      "/Users/niraj/Documents/VirtualEnvs/globaldl/lib/python3.9/site-packages/sklearn/linear_model/_logistic.py:763: ConvergenceWarning: lbfgs failed to converge (status=1):\n",
      "STOP: TOTAL NO. of ITERATIONS REACHED LIMIT.\n",
      "\n",
      "Increase the number of iterations (max_iter) or scale the data as shown in:\n",
      "    https://scikit-learn.org/stable/modules/preprocessing.html\n",
      "Please also refer to the documentation for alternative solver options:\n",
      "    https://scikit-learn.org/stable/modules/linear_model.html#logistic-regression\n",
      "  n_iter_i = _check_optimize_result(\n"
     ]
    },
    {
     "data": {
      "text/plain": [
       "0.9953488372093023"
      ]
     },
     "execution_count": 31,
     "metadata": {},
     "output_type": "execute_result"
    }
   ],
   "source": [
    "from sklearn.linear_model import LogisticRegression\n",
    "\n",
    "clf = LogisticRegression(random_state=0).fit(Xtrain, np.ravel(ytrain))\n",
    "\n",
    "clf.score(Xtest, np.ravel(ytest))"
   ]
  },
  {
   "cell_type": "code",
   "execution_count": 34,
   "id": "toxic-malawi",
   "metadata": {},
   "outputs": [
    {
     "data": {
      "text/plain": [
       "1.0"
      ]
     },
     "execution_count": 34,
     "metadata": {},
     "output_type": "execute_result"
    }
   ],
   "source": [
    "from sklearn.ensemble import RandomForestClassifier\n",
    "\n",
    "clf = RandomForestClassifier(random_state=0, n_estimators=1000)\n",
    "clf.fit(Xtrain, np.ravel(ytrain))\n",
    "clf.score(Xtest, np.ravel(ytest))"
   ]
  },
  {
   "cell_type": "code",
   "execution_count": null,
   "id": "registered-butter",
   "metadata": {},
   "outputs": [],
   "source": []
  }
 ],
 "metadata": {
  "kernelspec": {
   "display_name": "Python 3",
   "language": "python",
   "name": "python3"
  },
  "language_info": {
   "codemirror_mode": {
    "name": "ipython",
    "version": 3
   },
   "file_extension": ".py",
   "mimetype": "text/x-python",
   "name": "python",
   "nbconvert_exporter": "python",
   "pygments_lexer": "ipython3",
   "version": "3.9.0"
  }
 },
 "nbformat": 4,
 "nbformat_minor": 5
}
