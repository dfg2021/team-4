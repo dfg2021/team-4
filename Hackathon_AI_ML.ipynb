{
 "cells": [
  {
   "cell_type": "code",
   "execution_count": 122,
   "metadata": {},
   "outputs": [],
   "source": [
    "#import libraries\n",
    "import pandas as pd\n",
    "import matplotlib.pyplot as plt\n",
    "import numpy as np"
   ]
  },
  {
   "cell_type": "code",
   "execution_count": 21,
   "metadata": {},
   "outputs": [],
   "source": [
    "Goal4 = pd.read_excel('Goal4.xlsx')"
   ]
  },
  {
   "cell_type": "code",
   "execution_count": 22,
   "metadata": {},
   "outputs": [
    {
     "data": {
      "text/html": [
       "<div>\n",
       "<style scoped>\n",
       "    .dataframe tbody tr th:only-of-type {\n",
       "        vertical-align: middle;\n",
       "    }\n",
       "\n",
       "    .dataframe tbody tr th {\n",
       "        vertical-align: top;\n",
       "    }\n",
       "\n",
       "    .dataframe thead th {\n",
       "        text-align: right;\n",
       "    }\n",
       "</style>\n",
       "<table border=\"1\" class=\"dataframe\">\n",
       "  <thead>\n",
       "    <tr style=\"text-align: right;\">\n",
       "      <th></th>\n",
       "      <th>Goal</th>\n",
       "      <th>Target</th>\n",
       "      <th>Indicator</th>\n",
       "      <th>SeriesCode</th>\n",
       "      <th>SeriesDescription</th>\n",
       "      <th>GeoAreaCode</th>\n",
       "      <th>GeoAreaName</th>\n",
       "      <th>TimePeriod</th>\n",
       "      <th>Value</th>\n",
       "      <th>Time_Detail</th>\n",
       "      <th>...</th>\n",
       "      <th>Unnamed: 42</th>\n",
       "      <th>Unnamed: 43</th>\n",
       "      <th>Unnamed: 44</th>\n",
       "      <th>Unnamed: 45</th>\n",
       "      <th>Unnamed: 46</th>\n",
       "      <th>Unnamed: 47</th>\n",
       "      <th>Unnamed: 48</th>\n",
       "      <th>Unnamed: 49</th>\n",
       "      <th>Unnamed: 50</th>\n",
       "      <th>Unnamed: 51</th>\n",
       "    </tr>\n",
       "  </thead>\n",
       "  <tbody>\n",
       "    <tr>\n",
       "      <th>0</th>\n",
       "      <td>4</td>\n",
       "      <td>4.1</td>\n",
       "      <td>4.1.1</td>\n",
       "      <td>SE_TOT_PRFL</td>\n",
       "      <td>Proportion of children and young people achiev...</td>\n",
       "      <td>4</td>\n",
       "      <td>Afghanistan</td>\n",
       "      <td>2013</td>\n",
       "      <td>11.0</td>\n",
       "      <td>2013</td>\n",
       "      <td>...</td>\n",
       "      <td>NaN</td>\n",
       "      <td>NaN</td>\n",
       "      <td>NaN</td>\n",
       "      <td>NaN</td>\n",
       "      <td>NaN</td>\n",
       "      <td>NaN</td>\n",
       "      <td>NaN</td>\n",
       "      <td>NaN</td>\n",
       "      <td>NaN</td>\n",
       "      <td>NaN</td>\n",
       "    </tr>\n",
       "    <tr>\n",
       "      <th>1</th>\n",
       "      <td>4</td>\n",
       "      <td>4.1</td>\n",
       "      <td>4.1.1</td>\n",
       "      <td>SE_TOT_PRFL</td>\n",
       "      <td>Proportion of children and young people achiev...</td>\n",
       "      <td>4</td>\n",
       "      <td>Afghanistan</td>\n",
       "      <td>2013</td>\n",
       "      <td>13.0</td>\n",
       "      <td>2013</td>\n",
       "      <td>...</td>\n",
       "      <td>NaN</td>\n",
       "      <td>NaN</td>\n",
       "      <td>NaN</td>\n",
       "      <td>NaN</td>\n",
       "      <td>NaN</td>\n",
       "      <td>NaN</td>\n",
       "      <td>NaN</td>\n",
       "      <td>NaN</td>\n",
       "      <td>NaN</td>\n",
       "      <td>NaN</td>\n",
       "    </tr>\n",
       "    <tr>\n",
       "      <th>2</th>\n",
       "      <td>4</td>\n",
       "      <td>4.1</td>\n",
       "      <td>4.1.1</td>\n",
       "      <td>SE_TOT_PRFL</td>\n",
       "      <td>Proportion of children and young people achiev...</td>\n",
       "      <td>4</td>\n",
       "      <td>Afghanistan</td>\n",
       "      <td>2016</td>\n",
       "      <td>21.5</td>\n",
       "      <td>2016</td>\n",
       "      <td>...</td>\n",
       "      <td>NaN</td>\n",
       "      <td>NaN</td>\n",
       "      <td>NaN</td>\n",
       "      <td>NaN</td>\n",
       "      <td>NaN</td>\n",
       "      <td>NaN</td>\n",
       "      <td>NaN</td>\n",
       "      <td>NaN</td>\n",
       "      <td>NaN</td>\n",
       "      <td>NaN</td>\n",
       "    </tr>\n",
       "    <tr>\n",
       "      <th>3</th>\n",
       "      <td>4</td>\n",
       "      <td>4.1</td>\n",
       "      <td>4.1.1</td>\n",
       "      <td>SE_TOT_PRFL</td>\n",
       "      <td>Proportion of children and young people achiev...</td>\n",
       "      <td>4</td>\n",
       "      <td>Afghanistan</td>\n",
       "      <td>2016</td>\n",
       "      <td>22.5</td>\n",
       "      <td>2016</td>\n",
       "      <td>...</td>\n",
       "      <td>NaN</td>\n",
       "      <td>NaN</td>\n",
       "      <td>NaN</td>\n",
       "      <td>NaN</td>\n",
       "      <td>NaN</td>\n",
       "      <td>NaN</td>\n",
       "      <td>NaN</td>\n",
       "      <td>NaN</td>\n",
       "      <td>NaN</td>\n",
       "      <td>NaN</td>\n",
       "    </tr>\n",
       "    <tr>\n",
       "      <th>4</th>\n",
       "      <td>4</td>\n",
       "      <td>4.1</td>\n",
       "      <td>4.1.1</td>\n",
       "      <td>SE_TOT_PRFL</td>\n",
       "      <td>Proportion of children and young people achiev...</td>\n",
       "      <td>4</td>\n",
       "      <td>Afghanistan</td>\n",
       "      <td>2016</td>\n",
       "      <td>22.0</td>\n",
       "      <td>2016</td>\n",
       "      <td>...</td>\n",
       "      <td>NaN</td>\n",
       "      <td>NaN</td>\n",
       "      <td>NaN</td>\n",
       "      <td>NaN</td>\n",
       "      <td>NaN</td>\n",
       "      <td>NaN</td>\n",
       "      <td>NaN</td>\n",
       "      <td>NaN</td>\n",
       "      <td>NaN</td>\n",
       "      <td>NaN</td>\n",
       "    </tr>\n",
       "  </tbody>\n",
       "</table>\n",
       "<p>5 rows × 52 columns</p>\n",
       "</div>"
      ],
      "text/plain": [
       "   Goal Target Indicator   SeriesCode  \\\n",
       "0     4    4.1     4.1.1  SE_TOT_PRFL   \n",
       "1     4    4.1     4.1.1  SE_TOT_PRFL   \n",
       "2     4    4.1     4.1.1  SE_TOT_PRFL   \n",
       "3     4    4.1     4.1.1  SE_TOT_PRFL   \n",
       "4     4    4.1     4.1.1  SE_TOT_PRFL   \n",
       "\n",
       "                                   SeriesDescription  GeoAreaCode  \\\n",
       "0  Proportion of children and young people achiev...            4   \n",
       "1  Proportion of children and young people achiev...            4   \n",
       "2  Proportion of children and young people achiev...            4   \n",
       "3  Proportion of children and young people achiev...            4   \n",
       "4  Proportion of children and young people achiev...            4   \n",
       "\n",
       "   GeoAreaName  TimePeriod  Value Time_Detail  ...  Unnamed: 42  Unnamed: 43  \\\n",
       "0  Afghanistan        2013   11.0        2013  ...          NaN          NaN   \n",
       "1  Afghanistan        2013   13.0        2013  ...          NaN          NaN   \n",
       "2  Afghanistan        2016   21.5        2016  ...          NaN          NaN   \n",
       "3  Afghanistan        2016   22.5        2016  ...          NaN          NaN   \n",
       "4  Afghanistan        2016   22.0        2016  ...          NaN          NaN   \n",
       "\n",
       "   Unnamed: 44  Unnamed: 45 Unnamed: 46  Unnamed: 47 Unnamed: 48 Unnamed: 49  \\\n",
       "0          NaN          NaN         NaN          NaN         NaN         NaN   \n",
       "1          NaN          NaN         NaN          NaN         NaN         NaN   \n",
       "2          NaN          NaN         NaN          NaN         NaN         NaN   \n",
       "3          NaN          NaN         NaN          NaN         NaN         NaN   \n",
       "4          NaN          NaN         NaN          NaN         NaN         NaN   \n",
       "\n",
       "  Unnamed: 50 Unnamed: 51  \n",
       "0         NaN         NaN  \n",
       "1         NaN         NaN  \n",
       "2         NaN         NaN  \n",
       "3         NaN         NaN  \n",
       "4         NaN         NaN  \n",
       "\n",
       "[5 rows x 52 columns]"
      ]
     },
     "execution_count": 22,
     "metadata": {},
     "output_type": "execute_result"
    }
   ],
   "source": [
    "Goal4.head()"
   ]
  },
  {
   "cell_type": "code",
   "execution_count": 25,
   "metadata": {},
   "outputs": [],
   "source": [
    "df = Goal4.loc[:, ~Goal4.columns.str.contains('^Unnamed')]"
   ]
  },
  {
   "cell_type": "code",
   "execution_count": 29,
   "metadata": {},
   "outputs": [
    {
     "data": {
      "text/plain": [
       "Index(['Goal', 'Target', 'Indicator', 'SeriesCode', 'SeriesDescription',\n",
       "       'GeoAreaCode', 'GeoAreaName', 'TimePeriod', 'Value', 'Time_Detail',\n",
       "       'TimeCoverage', 'UpperBound', 'LowerBound', 'BasePeriod', 'Source',\n",
       "       'GeoInfoUrl', 'FootNote', 'Age', 'Education level', 'Location',\n",
       "       'Nature', 'Quantile', 'Reporting Type', 'Sex', 'Type of skill',\n",
       "       'Units'],\n",
       "      dtype='object')"
      ]
     },
     "execution_count": 29,
     "metadata": {},
     "output_type": "execute_result"
    }
   ],
   "source": [
    "df.columns"
   ]
  },
  {
   "cell_type": "markdown",
   "metadata": {},
   "source": [
    "### Columns Removed"
   ]
  },
  {
   "cell_type": "code",
   "execution_count": 31,
   "metadata": {},
   "outputs": [],
   "source": [
    "df = df.drop([\"Goal\", \"TimeCoverage\", \"UpperBound\", \"LowerBound\", \"GeoInfoUrl\", \"Reporting Type\", \"Time_Detail\", \"GeoAreaCode\", \"Source\", \"SeriesDescription\", \"BasePeriod\", \"Age\"], axis=1)"
   ]
  },
  {
   "cell_type": "code",
   "execution_count": 36,
   "metadata": {},
   "outputs": [
    {
     "data": {
      "text/plain": [
       "Index(['Target', 'Indicator', 'SeriesCode', 'GeoAreaName', 'TimePeriod',\n",
       "       'Value', 'BasePeriod', 'FootNote', 'Age', 'Education level', 'Location',\n",
       "       'Nature', 'Quantile', 'Sex', 'Type of skill', 'Units'],\n",
       "      dtype='object')"
      ]
     },
     "execution_count": 36,
     "metadata": {},
     "output_type": "execute_result"
    }
   ],
   "source": [
    "df.columns"
   ]
  },
  {
   "cell_type": "code",
   "execution_count": 35,
   "metadata": {},
   "outputs": [
    {
     "data": {
      "text/html": [
       "<div>\n",
       "<style scoped>\n",
       "    .dataframe tbody tr th:only-of-type {\n",
       "        vertical-align: middle;\n",
       "    }\n",
       "\n",
       "    .dataframe tbody tr th {\n",
       "        vertical-align: top;\n",
       "    }\n",
       "\n",
       "    .dataframe thead th {\n",
       "        text-align: right;\n",
       "    }\n",
       "</style>\n",
       "<table border=\"1\" class=\"dataframe\">\n",
       "  <thead>\n",
       "    <tr style=\"text-align: right;\">\n",
       "      <th></th>\n",
       "      <th>TimePeriod</th>\n",
       "      <th>Value</th>\n",
       "      <th>BasePeriod</th>\n",
       "    </tr>\n",
       "  </thead>\n",
       "  <tbody>\n",
       "    <tr>\n",
       "      <th>count</th>\n",
       "      <td>191762.000000</td>\n",
       "      <td>179570.000000</td>\n",
       "      <td>2276.0</td>\n",
       "    </tr>\n",
       "    <tr>\n",
       "      <th>mean</th>\n",
       "      <td>2010.212284</td>\n",
       "      <td>41.595042</td>\n",
       "      <td>2018.0</td>\n",
       "    </tr>\n",
       "    <tr>\n",
       "      <th>std</th>\n",
       "      <td>5.169051</td>\n",
       "      <td>41.230603</td>\n",
       "      <td>0.0</td>\n",
       "    </tr>\n",
       "    <tr>\n",
       "      <th>min</th>\n",
       "      <td>2000.000000</td>\n",
       "      <td>0.000000</td>\n",
       "      <td>2018.0</td>\n",
       "    </tr>\n",
       "    <tr>\n",
       "      <th>25%</th>\n",
       "      <td>2006.000000</td>\n",
       "      <td>1.001600</td>\n",
       "      <td>2018.0</td>\n",
       "    </tr>\n",
       "    <tr>\n",
       "      <th>50%</th>\n",
       "      <td>2011.000000</td>\n",
       "      <td>34.134145</td>\n",
       "      <td>2018.0</td>\n",
       "    </tr>\n",
       "    <tr>\n",
       "      <th>75%</th>\n",
       "      <td>2015.000000</td>\n",
       "      <td>83.482727</td>\n",
       "      <td>2018.0</td>\n",
       "    </tr>\n",
       "    <tr>\n",
       "      <th>max</th>\n",
       "      <td>2020.000000</td>\n",
       "      <td>1632.065770</td>\n",
       "      <td>2018.0</td>\n",
       "    </tr>\n",
       "  </tbody>\n",
       "</table>\n",
       "</div>"
      ],
      "text/plain": [
       "          TimePeriod          Value  BasePeriod\n",
       "count  191762.000000  179570.000000      2276.0\n",
       "mean     2010.212284      41.595042      2018.0\n",
       "std         5.169051      41.230603         0.0\n",
       "min      2000.000000       0.000000      2018.0\n",
       "25%      2006.000000       1.001600      2018.0\n",
       "50%      2011.000000      34.134145      2018.0\n",
       "75%      2015.000000      83.482727      2018.0\n",
       "max      2020.000000    1632.065770      2018.0"
      ]
     },
     "execution_count": 35,
     "metadata": {},
     "output_type": "execute_result"
    }
   ],
   "source": [
    "df.describe()"
   ]
  },
  {
   "cell_type": "markdown",
   "metadata": {},
   "source": [
    "## Filter and work on the country of focus\n",
    "\n",
    "#### These countries can be spelt differently sometimes in the dataset (Example Congo Dem. Rep. can also be spelt out as Congo Democratic Republic)"
   ]
  },
  {
   "cell_type": "code",
   "execution_count": 60,
   "metadata": {},
   "outputs": [],
   "source": [
    "#Country of focus\n",
    "countries = ['Democratic Republic of the Congo', 'Micronesia', 'Afghanistan', 'Albania', 'Algeria', 'Angola', 'Antigua and Barbuda', 'Argentina', 'Armenia', 'Azerbaijan', 'Bangladesh', 'Belarus', 'Belize', 'Benin', 'Bhutan','Bolivia', 'Bosnia and Herzegovina', 'Botswana', 'Brazil', 'Bulgaria', 'Burkina Faso', 'Burundi', 'Cabo Verde', 'Cambodia', 'Cameroon', 'Central African Republic', 'Chad', 'Chile', 'China', 'Colombia', 'Comoros', 'Congo','Congo, Democratic Republic', 'Costa Rica', 'Croatia', \"Côte d'Ivoire\", 'Djibouti', 'Dominica', 'Dominican Republic', 'Ecuador', 'Egypt', 'El Salvador', 'Equatorial Guinea', 'Eritrea', 'Eswatini', 'Ethiopia', 'Fiji', 'Gabon', 'Gambia', 'Georgia', 'Ghana', 'Grenada', 'Guatemala', 'Guinea', 'Guinea-Bissau', 'Guyana', 'Haiti', 'Honduras', 'India', 'Indonesia', 'Iran (Islamic Republic of)', 'Iraq', 'Jamaica', 'Jordan', 'Kazakhstan', 'Kenya', 'Kiribati', 'Kosovo', 'Kyrgyzstan', \"Lao People's Democratic Republic\", 'Lebanon', 'Lesotho', 'Liberia', 'Libya', 'Madagascar', 'Malawi', 'Malaysia', 'Maldives', 'Mali', 'Marshall Islands', 'Mauritania', 'Mauritius', 'Mexico', 'Micronesia (Federated States of)','Moldova', 'Mongolia', 'Montenegro', 'Morocco', 'Mozambique', 'Myanmar', 'Namibia', 'Nauru', 'Nepal', 'Nicaragua', 'Niger', 'Nigeria', 'North Macedonia', 'Pakistan', 'Palau', 'Panama', 'Papua New Guinea', 'Paraguay', 'Peru', 'Philippines', 'Poland', 'Romania', 'Russian Federation', 'Rwanda', 'Saint Kitts and Nevis', 'Saint Lucia', 'Saint Vincent and the Grenadines', 'Samoa', 'Sao Tome and Principe', 'Senegal', 'Serbia', 'Seychelles', 'Sierra Leone', 'Solomon Islands', 'Somalia', 'South Africa', 'South Sudan', 'Sri Lanka', 'Sudan', 'Suriname', 'Syrian Arab Republic', 'Tajikistan', 'Thailand', 'Timor-Leste', 'Togo', 'Tonga', 'Trinidad and Tobago', 'Tunisia', 'Turkey', 'Turkmenistan', 'Tuvalu', 'Uganda', 'Ukraine', 'United Republic of Tanzania', 'Uruguay', 'Uzbekistan', 'Vanuatu','Venezuela', 'Vietnam', 'Yemen', 'Zambia', 'Zimbabwe']"
   ]
  },
  {
   "cell_type": "code",
   "execution_count": 6,
   "metadata": {
    "collapsed": true,
    "jupyter": {
     "outputs_hidden": true
    },
    "tags": []
   },
   "outputs": [
    {
     "name": "stdout",
     "output_type": "stream",
     "text": [
      "0 Afghanistan\n",
      "1 Albania\n",
      "2 Algeria\n",
      "3 Angola\n",
      "4 Antigua and Barbuda\n",
      "5 Argentina\n",
      "6 Armenia\n",
      "7 Azerbaijan\n",
      "8 Bangladesh\n",
      "9 Belarus\n",
      "10 Belize\n",
      "11 Benin\n",
      "12 Bhutan\n",
      "13 Bolivia\n",
      "14 Bosnia and Herzegovina\n",
      "15 Botswana\n",
      "16 Brazil\n",
      "17 Bulgaria\n",
      "18 Burkina Faso\n",
      "19 Burundi\n",
      "20 Cabo Verde\n",
      "21 Cambodia\n",
      "22 Cameroon\n",
      "23 Central African Republic\n",
      "24 Chad\n",
      "25 Chile\n",
      "26 China\n",
      "27 Colombia\n",
      "28 Comoros\n",
      "29 Congo\n",
      "30 Congo, Democratic Republic\n",
      "31 Costa Rica\n",
      "32 Croatia\n",
      "33 Côte d'Ivoire\n",
      "34 Djibouti\n",
      "35 Dominica\n",
      "36 Dominican Republic\n",
      "37 Ecuador\n",
      "38 Egypt\n",
      "39 El Salvador\n",
      "40 Equatorial Guinea\n",
      "41 Eritrea\n",
      "42 Eswatini\n",
      "43 Ethiopia\n",
      "44 Fiji\n",
      "45 Gabon\n",
      "46 Gambia\n",
      "47 Georgia\n",
      "48 Ghana\n",
      "49 Grenada\n",
      "50 Guatemala\n",
      "51 Guinea\n",
      "52 Guinea-Bissau\n",
      "53 Guyana\n",
      "54 Haiti\n",
      "55 Honduras\n",
      "56 India\n",
      "57 Indonesia\n",
      "58 Iran (Islamic Republic of)\n",
      "59 Iraq\n",
      "60 Jamaica\n",
      "61 Jordan\n",
      "62 Kazakhstan\n",
      "63 Kenya\n",
      "64 Kiribati\n",
      "65 Kosovo\n",
      "66 Kyrgyzstan\n",
      "67 Lao People's Democratic Republic\n",
      "68 Lebanon\n",
      "69 Lesotho\n",
      "70 Liberia\n",
      "71 Libya\n",
      "72 Madagascar\n",
      "73 Malawi\n",
      "74 Malaysia\n",
      "75 Maldives\n",
      "76 Mali\n",
      "77 Marshall Islands\n",
      "78 Mauritania\n",
      "79 Mauritius\n",
      "80 Mexico\n",
      "81 Micronesia (Federated States of)\n",
      "82 Moldova\n",
      "83 Mongolia\n",
      "84 Montenegro\n",
      "85 Morocco\n",
      "86 Mozambique\n",
      "87 Myanmar\n",
      "88 Namibia\n",
      "89 Nauru\n",
      "90 Nepal\n",
      "91 Nicaragua\n",
      "92 Niger\n",
      "93 Nigeria\n",
      "94 North Macedonia\n",
      "95 Pakistan\n",
      "96 Palau\n",
      "97 Panama\n",
      "98 Papua New Guinea\n",
      "99 Paraguay\n",
      "100 Peru\n",
      "101 Philippines\n",
      "102 Poland\n",
      "103 Romania\n",
      "104 Russian Federation\n",
      "105 Rwanda\n",
      "106 Saint Kitts and Nevis\n",
      "107 Saint Lucia\n",
      "108 Saint Vincent and the Grenadines\n",
      "109 Samoa\n",
      "110 Sao Tome and Principe\n",
      "111 Senegal\n",
      "112 Serbia\n",
      "113 Seychelles\n",
      "114 Sierra Leone\n",
      "115 Solomon Islands\n",
      "116 Somalia\n",
      "117 South Africa\n",
      "118 South Sudan\n",
      "119 Sri Lanka\n",
      "120 Sudan\n",
      "121 Suriname\n",
      "122 Syrian Arab Republic\n",
      "123 Tajikistan\n",
      "124 Thailand\n",
      "125 Timor-Leste\n",
      "126 Togo\n",
      "127 Tonga\n",
      "128 Trinidad and Tobago\n",
      "129 Tunisia\n",
      "130 Turkey\n",
      "131 Turkmenistan\n",
      "132 Tuvalu\n",
      "133 Uganda\n",
      "134 Ukraine\n",
      "135 United Republic of Tanzania\n",
      "136 Uruguay\n",
      "137 Uzbekistan\n",
      "138 Vanuatu\n",
      "139 Venezuela\n",
      "140 Vietnam\n",
      "141 Yemen\n",
      "142 Zambia\n",
      "143 Zimbabwe\n"
     ]
    }
   ],
   "source": [
    "for i,j in enumerate(countries):\n",
    "    print(i,j)"
   ]
  },
  {
   "cell_type": "code",
   "execution_count": 56,
   "metadata": {},
   "outputs": [
    {
     "data": {
      "text/plain": [
       "LOWSEC    58485\n",
       "PRIMAR    54631\n",
       "UPPSEC    51585\n",
       "PREPRI     3613\n",
       "SECOND     3414\n",
       "GRAD23     2007\n",
       "_T          148\n",
       "Name: Education level, dtype: int64"
      ]
     },
     "execution_count": 56,
     "metadata": {},
     "output_type": "execute_result"
    }
   ],
   "source": [
    "df[\"Education level\"].value_counts()"
   ]
  },
  {
   "cell_type": "markdown",
   "metadata": {},
   "source": [
    "# One-hot encoding the columns"
   ]
  },
  {
   "cell_type": "code",
   "execution_count": 37,
   "metadata": {},
   "outputs": [
    {
     "data": {
      "text/html": [
       "<div>\n",
       "<style scoped>\n",
       "    .dataframe tbody tr th:only-of-type {\n",
       "        vertical-align: middle;\n",
       "    }\n",
       "\n",
       "    .dataframe tbody tr th {\n",
       "        vertical-align: top;\n",
       "    }\n",
       "\n",
       "    .dataframe thead th {\n",
       "        text-align: right;\n",
       "    }\n",
       "</style>\n",
       "<table border=\"1\" class=\"dataframe\">\n",
       "  <thead>\n",
       "    <tr style=\"text-align: right;\">\n",
       "      <th></th>\n",
       "      <th>Target</th>\n",
       "      <th>Indicator</th>\n",
       "      <th>SeriesCode</th>\n",
       "      <th>GeoAreaName</th>\n",
       "      <th>TimePeriod</th>\n",
       "      <th>Value</th>\n",
       "      <th>BasePeriod</th>\n",
       "      <th>FootNote</th>\n",
       "      <th>Age</th>\n",
       "      <th>Education level</th>\n",
       "      <th>Location</th>\n",
       "      <th>Nature</th>\n",
       "      <th>Quantile</th>\n",
       "      <th>Sex</th>\n",
       "      <th>Type of skill</th>\n",
       "      <th>Units</th>\n",
       "    </tr>\n",
       "  </thead>\n",
       "  <tbody>\n",
       "    <tr>\n",
       "      <th>0</th>\n",
       "      <td>4.1</td>\n",
       "      <td>4.1.1</td>\n",
       "      <td>SE_TOT_PRFL</td>\n",
       "      <td>Afghanistan</td>\n",
       "      <td>2013</td>\n",
       "      <td>11.0</td>\n",
       "      <td>NaN</td>\n",
       "      <td>NaN</td>\n",
       "      <td>NaN</td>\n",
       "      <td>PRIMAR</td>\n",
       "      <td>NaN</td>\n",
       "      <td>C</td>\n",
       "      <td>NaN</td>\n",
       "      <td>BOTHSEX</td>\n",
       "      <td>SKILL_MATH</td>\n",
       "      <td>PERCENT</td>\n",
       "    </tr>\n",
       "    <tr>\n",
       "      <th>1</th>\n",
       "      <td>4.1</td>\n",
       "      <td>4.1.1</td>\n",
       "      <td>SE_TOT_PRFL</td>\n",
       "      <td>Afghanistan</td>\n",
       "      <td>2013</td>\n",
       "      <td>13.0</td>\n",
       "      <td>NaN</td>\n",
       "      <td>NaN</td>\n",
       "      <td>NaN</td>\n",
       "      <td>PRIMAR</td>\n",
       "      <td>NaN</td>\n",
       "      <td>C</td>\n",
       "      <td>NaN</td>\n",
       "      <td>BOTHSEX</td>\n",
       "      <td>SKILL_READ</td>\n",
       "      <td>PERCENT</td>\n",
       "    </tr>\n",
       "    <tr>\n",
       "      <th>2</th>\n",
       "      <td>4.1</td>\n",
       "      <td>4.1.1</td>\n",
       "      <td>SE_TOT_PRFL</td>\n",
       "      <td>Afghanistan</td>\n",
       "      <td>2016</td>\n",
       "      <td>21.5</td>\n",
       "      <td>NaN</td>\n",
       "      <td>NaN</td>\n",
       "      <td>NaN</td>\n",
       "      <td>GRAD23</td>\n",
       "      <td>NaN</td>\n",
       "      <td>C</td>\n",
       "      <td>NaN</td>\n",
       "      <td>MALE</td>\n",
       "      <td>SKILL_READ</td>\n",
       "      <td>PERCENT</td>\n",
       "    </tr>\n",
       "    <tr>\n",
       "      <th>3</th>\n",
       "      <td>4.1</td>\n",
       "      <td>4.1.1</td>\n",
       "      <td>SE_TOT_PRFL</td>\n",
       "      <td>Afghanistan</td>\n",
       "      <td>2016</td>\n",
       "      <td>22.5</td>\n",
       "      <td>NaN</td>\n",
       "      <td>NaN</td>\n",
       "      <td>NaN</td>\n",
       "      <td>GRAD23</td>\n",
       "      <td>NaN</td>\n",
       "      <td>C</td>\n",
       "      <td>NaN</td>\n",
       "      <td>FEMALE</td>\n",
       "      <td>SKILL_READ</td>\n",
       "      <td>PERCENT</td>\n",
       "    </tr>\n",
       "    <tr>\n",
       "      <th>4</th>\n",
       "      <td>4.1</td>\n",
       "      <td>4.1.1</td>\n",
       "      <td>SE_TOT_PRFL</td>\n",
       "      <td>Afghanistan</td>\n",
       "      <td>2016</td>\n",
       "      <td>22.0</td>\n",
       "      <td>NaN</td>\n",
       "      <td>NaN</td>\n",
       "      <td>NaN</td>\n",
       "      <td>GRAD23</td>\n",
       "      <td>NaN</td>\n",
       "      <td>C</td>\n",
       "      <td>NaN</td>\n",
       "      <td>BOTHSEX</td>\n",
       "      <td>SKILL_READ</td>\n",
       "      <td>PERCENT</td>\n",
       "    </tr>\n",
       "  </tbody>\n",
       "</table>\n",
       "</div>"
      ],
      "text/plain": [
       "  Target Indicator   SeriesCode  GeoAreaName  TimePeriod  Value  BasePeriod  \\\n",
       "0    4.1     4.1.1  SE_TOT_PRFL  Afghanistan        2013   11.0         NaN   \n",
       "1    4.1     4.1.1  SE_TOT_PRFL  Afghanistan        2013   13.0         NaN   \n",
       "2    4.1     4.1.1  SE_TOT_PRFL  Afghanistan        2016   21.5         NaN   \n",
       "3    4.1     4.1.1  SE_TOT_PRFL  Afghanistan        2016   22.5         NaN   \n",
       "4    4.1     4.1.1  SE_TOT_PRFL  Afghanistan        2016   22.0         NaN   \n",
       "\n",
       "  FootNote  Age Education level Location Nature Quantile      Sex  \\\n",
       "0      NaN  NaN          PRIMAR      NaN      C      NaN  BOTHSEX   \n",
       "1      NaN  NaN          PRIMAR      NaN      C      NaN  BOTHSEX   \n",
       "2      NaN  NaN          GRAD23      NaN      C      NaN     MALE   \n",
       "3      NaN  NaN          GRAD23      NaN      C      NaN   FEMALE   \n",
       "4      NaN  NaN          GRAD23      NaN      C      NaN  BOTHSEX   \n",
       "\n",
       "  Type of skill    Units  \n",
       "0    SKILL_MATH  PERCENT  \n",
       "1    SKILL_READ  PERCENT  \n",
       "2    SKILL_READ  PERCENT  \n",
       "3    SKILL_READ  PERCENT  \n",
       "4    SKILL_READ  PERCENT  "
      ]
     },
     "execution_count": 37,
     "metadata": {},
     "output_type": "execute_result"
    }
   ],
   "source": [
    "df.head()"
   ]
  },
  {
   "cell_type": "code",
   "execution_count": 44,
   "metadata": {},
   "outputs": [
    {
     "data": {
      "text/plain": [
       "Index(['Target', 'Indicator', 'SeriesCode', 'GeoAreaName', 'TimePeriod',\n",
       "       'Value', 'BasePeriod', 'FootNote', 'Age', 'Education level', 'Location',\n",
       "       'Nature', 'Quantile', 'Sex', 'Type of skill', 'Units'],\n",
       "      dtype='object')"
      ]
     },
     "execution_count": 44,
     "metadata": {},
     "output_type": "execute_result"
    }
   ],
   "source": [
    "df.columns"
   ]
  },
  {
   "cell_type": "code",
   "execution_count": 45,
   "metadata": {},
   "outputs": [
    {
     "data": {
      "text/html": [
       "<div>\n",
       "<style scoped>\n",
       "    .dataframe tbody tr th:only-of-type {\n",
       "        vertical-align: middle;\n",
       "    }\n",
       "\n",
       "    .dataframe tbody tr th {\n",
       "        vertical-align: top;\n",
       "    }\n",
       "\n",
       "    .dataframe thead th {\n",
       "        text-align: right;\n",
       "    }\n",
       "</style>\n",
       "<table border=\"1\" class=\"dataframe\">\n",
       "  <thead>\n",
       "    <tr style=\"text-align: right;\">\n",
       "      <th></th>\n",
       "      <th>TimePeriod</th>\n",
       "      <th>Value</th>\n",
       "      <th>BasePeriod</th>\n",
       "    </tr>\n",
       "  </thead>\n",
       "  <tbody>\n",
       "    <tr>\n",
       "      <th>count</th>\n",
       "      <td>191762.000000</td>\n",
       "      <td>179570.000000</td>\n",
       "      <td>2276.0</td>\n",
       "    </tr>\n",
       "    <tr>\n",
       "      <th>mean</th>\n",
       "      <td>2010.212284</td>\n",
       "      <td>41.595042</td>\n",
       "      <td>2018.0</td>\n",
       "    </tr>\n",
       "    <tr>\n",
       "      <th>std</th>\n",
       "      <td>5.169051</td>\n",
       "      <td>41.230603</td>\n",
       "      <td>0.0</td>\n",
       "    </tr>\n",
       "    <tr>\n",
       "      <th>min</th>\n",
       "      <td>2000.000000</td>\n",
       "      <td>0.000000</td>\n",
       "      <td>2018.0</td>\n",
       "    </tr>\n",
       "    <tr>\n",
       "      <th>25%</th>\n",
       "      <td>2006.000000</td>\n",
       "      <td>1.001600</td>\n",
       "      <td>2018.0</td>\n",
       "    </tr>\n",
       "    <tr>\n",
       "      <th>50%</th>\n",
       "      <td>2011.000000</td>\n",
       "      <td>34.134145</td>\n",
       "      <td>2018.0</td>\n",
       "    </tr>\n",
       "    <tr>\n",
       "      <th>75%</th>\n",
       "      <td>2015.000000</td>\n",
       "      <td>83.482727</td>\n",
       "      <td>2018.0</td>\n",
       "    </tr>\n",
       "    <tr>\n",
       "      <th>max</th>\n",
       "      <td>2020.000000</td>\n",
       "      <td>1632.065770</td>\n",
       "      <td>2018.0</td>\n",
       "    </tr>\n",
       "  </tbody>\n",
       "</table>\n",
       "</div>"
      ],
      "text/plain": [
       "          TimePeriod          Value  BasePeriod\n",
       "count  191762.000000  179570.000000      2276.0\n",
       "mean     2010.212284      41.595042      2018.0\n",
       "std         5.169051      41.230603         0.0\n",
       "min      2000.000000       0.000000      2018.0\n",
       "25%      2006.000000       1.001600      2018.0\n",
       "50%      2011.000000      34.134145      2018.0\n",
       "75%      2015.000000      83.482727      2018.0\n",
       "max      2020.000000    1632.065770      2018.0"
      ]
     },
     "execution_count": 45,
     "metadata": {},
     "output_type": "execute_result"
    }
   ],
   "source": [
    "df.describe()"
   ]
  },
  {
   "cell_type": "markdown",
   "metadata": {},
   "source": [
    "### Extract information from Footnote"
   ]
  },
  {
   "cell_type": "markdown",
   "metadata": {},
   "source": [
    "## Retaining only given countries"
   ]
  },
  {
   "cell_type": "code",
   "execution_count": 63,
   "metadata": {},
   "outputs": [],
   "source": [
    "df_requiredcountries = df[df.GeoAreaName.isin(countries)]"
   ]
  },
  {
   "cell_type": "code",
   "execution_count": 65,
   "metadata": {},
   "outputs": [
    {
     "name": "stdout",
     "output_type": "stream",
     "text": [
      "(152207, 16)\n"
     ]
    }
   ],
   "source": [
    "print(df_requiredcountries.shape)\n",
    "df_requiredcountries.to_csv(\"required_countries_dataframe.csv\")"
   ]
  },
  {
   "cell_type": "code",
   "execution_count": 76,
   "metadata": {},
   "outputs": [],
   "source": [
    "categorical_columns = [\"Target\", \"Indicator\", \"SeriesCode\", \"GeoAreaName\", \"Education level\", \"Location\",\n",
    "       \"Nature\", \"Quantile\", \"Sex\", \"Type of skill\", \"Units\"]"
   ]
  },
  {
   "cell_type": "code",
   "execution_count": 77,
   "metadata": {},
   "outputs": [],
   "source": [
    "df_dummies = df_requiredcountries"
   ]
  },
  {
   "cell_type": "code",
   "execution_count": 78,
   "metadata": {},
   "outputs": [
    {
     "data": {
      "text/plain": [
       "Index(['Target', 'Indicator', 'SeriesCode', 'GeoAreaName', 'TimePeriod',\n",
       "       'Value', 'BasePeriod', 'FootNote', 'Age', 'Education level', 'Location',\n",
       "       'Nature', 'Quantile', 'Sex', 'Type of skill', 'Units'],\n",
       "      dtype='object')"
      ]
     },
     "execution_count": 78,
     "metadata": {},
     "output_type": "execute_result"
    }
   ],
   "source": [
    "df_requiredcountries.columns"
   ]
  },
  {
   "cell_type": "code",
   "execution_count": 79,
   "metadata": {},
   "outputs": [],
   "source": [
    "for col in categorical_columns:\n",
    "    df_dummies = pd.concat([df_dummies.drop([col], axis=1), pd.get_dummies(df_dummies[col], prefix=col)], axis=1)"
   ]
  },
  {
   "cell_type": "code",
   "execution_count": 80,
   "metadata": {},
   "outputs": [
    {
     "data": {
      "text/html": [
       "<div>\n",
       "<style scoped>\n",
       "    .dataframe tbody tr th:only-of-type {\n",
       "        vertical-align: middle;\n",
       "    }\n",
       "\n",
       "    .dataframe tbody tr th {\n",
       "        vertical-align: top;\n",
       "    }\n",
       "\n",
       "    .dataframe thead th {\n",
       "        text-align: right;\n",
       "    }\n",
       "</style>\n",
       "<table border=\"1\" class=\"dataframe\">\n",
       "  <thead>\n",
       "    <tr style=\"text-align: right;\">\n",
       "      <th></th>\n",
       "      <th>TimePeriod</th>\n",
       "      <th>Value</th>\n",
       "      <th>BasePeriod</th>\n",
       "      <th>FootNote</th>\n",
       "      <th>Age</th>\n",
       "      <th>Target_4.1</th>\n",
       "      <th>Target_4.2</th>\n",
       "      <th>Target_4.3</th>\n",
       "      <th>Target_4.4</th>\n",
       "      <th>Target_4.5</th>\n",
       "      <th>...</th>\n",
       "      <th>Type of skill_LITE</th>\n",
       "      <th>Type of skill_NUME</th>\n",
       "      <th>Type of skill_PCPR</th>\n",
       "      <th>Type of skill_SKILL_MATH</th>\n",
       "      <th>Type of skill_SKILL_READ</th>\n",
       "      <th>Type of skill_SOFT</th>\n",
       "      <th>Type of skill_TRAF</th>\n",
       "      <th>Units_CON_USD</th>\n",
       "      <th>Units_PERCENT</th>\n",
       "      <th>Units_Ratio</th>\n",
       "    </tr>\n",
       "  </thead>\n",
       "  <tbody>\n",
       "    <tr>\n",
       "      <th>0</th>\n",
       "      <td>2013</td>\n",
       "      <td>11.0</td>\n",
       "      <td>NaN</td>\n",
       "      <td>NaN</td>\n",
       "      <td>NaN</td>\n",
       "      <td>1</td>\n",
       "      <td>0</td>\n",
       "      <td>0</td>\n",
       "      <td>0</td>\n",
       "      <td>0</td>\n",
       "      <td>...</td>\n",
       "      <td>0</td>\n",
       "      <td>0</td>\n",
       "      <td>0</td>\n",
       "      <td>1</td>\n",
       "      <td>0</td>\n",
       "      <td>0</td>\n",
       "      <td>0</td>\n",
       "      <td>0</td>\n",
       "      <td>1</td>\n",
       "      <td>0</td>\n",
       "    </tr>\n",
       "    <tr>\n",
       "      <th>1</th>\n",
       "      <td>2013</td>\n",
       "      <td>13.0</td>\n",
       "      <td>NaN</td>\n",
       "      <td>NaN</td>\n",
       "      <td>NaN</td>\n",
       "      <td>1</td>\n",
       "      <td>0</td>\n",
       "      <td>0</td>\n",
       "      <td>0</td>\n",
       "      <td>0</td>\n",
       "      <td>...</td>\n",
       "      <td>0</td>\n",
       "      <td>0</td>\n",
       "      <td>0</td>\n",
       "      <td>0</td>\n",
       "      <td>1</td>\n",
       "      <td>0</td>\n",
       "      <td>0</td>\n",
       "      <td>0</td>\n",
       "      <td>1</td>\n",
       "      <td>0</td>\n",
       "    </tr>\n",
       "    <tr>\n",
       "      <th>2</th>\n",
       "      <td>2016</td>\n",
       "      <td>21.5</td>\n",
       "      <td>NaN</td>\n",
       "      <td>NaN</td>\n",
       "      <td>NaN</td>\n",
       "      <td>1</td>\n",
       "      <td>0</td>\n",
       "      <td>0</td>\n",
       "      <td>0</td>\n",
       "      <td>0</td>\n",
       "      <td>...</td>\n",
       "      <td>0</td>\n",
       "      <td>0</td>\n",
       "      <td>0</td>\n",
       "      <td>0</td>\n",
       "      <td>1</td>\n",
       "      <td>0</td>\n",
       "      <td>0</td>\n",
       "      <td>0</td>\n",
       "      <td>1</td>\n",
       "      <td>0</td>\n",
       "    </tr>\n",
       "    <tr>\n",
       "      <th>3</th>\n",
       "      <td>2016</td>\n",
       "      <td>22.5</td>\n",
       "      <td>NaN</td>\n",
       "      <td>NaN</td>\n",
       "      <td>NaN</td>\n",
       "      <td>1</td>\n",
       "      <td>0</td>\n",
       "      <td>0</td>\n",
       "      <td>0</td>\n",
       "      <td>0</td>\n",
       "      <td>...</td>\n",
       "      <td>0</td>\n",
       "      <td>0</td>\n",
       "      <td>0</td>\n",
       "      <td>0</td>\n",
       "      <td>1</td>\n",
       "      <td>0</td>\n",
       "      <td>0</td>\n",
       "      <td>0</td>\n",
       "      <td>1</td>\n",
       "      <td>0</td>\n",
       "    </tr>\n",
       "    <tr>\n",
       "      <th>4</th>\n",
       "      <td>2016</td>\n",
       "      <td>22.0</td>\n",
       "      <td>NaN</td>\n",
       "      <td>NaN</td>\n",
       "      <td>NaN</td>\n",
       "      <td>1</td>\n",
       "      <td>0</td>\n",
       "      <td>0</td>\n",
       "      <td>0</td>\n",
       "      <td>0</td>\n",
       "      <td>...</td>\n",
       "      <td>0</td>\n",
       "      <td>0</td>\n",
       "      <td>0</td>\n",
       "      <td>0</td>\n",
       "      <td>1</td>\n",
       "      <td>0</td>\n",
       "      <td>0</td>\n",
       "      <td>0</td>\n",
       "      <td>1</td>\n",
       "      <td>0</td>\n",
       "    </tr>\n",
       "  </tbody>\n",
       "</table>\n",
       "<p>5 rows × 233 columns</p>\n",
       "</div>"
      ],
      "text/plain": [
       "   TimePeriod  Value  BasePeriod FootNote  Age  Target_4.1  Target_4.2  \\\n",
       "0        2013   11.0         NaN      NaN  NaN           1           0   \n",
       "1        2013   13.0         NaN      NaN  NaN           1           0   \n",
       "2        2016   21.5         NaN      NaN  NaN           1           0   \n",
       "3        2016   22.5         NaN      NaN  NaN           1           0   \n",
       "4        2016   22.0         NaN      NaN  NaN           1           0   \n",
       "\n",
       "   Target_4.3  Target_4.4  Target_4.5  ...  Type of skill_LITE  \\\n",
       "0           0           0           0  ...                   0   \n",
       "1           0           0           0  ...                   0   \n",
       "2           0           0           0  ...                   0   \n",
       "3           0           0           0  ...                   0   \n",
       "4           0           0           0  ...                   0   \n",
       "\n",
       "   Type of skill_NUME  Type of skill_PCPR  Type of skill_SKILL_MATH  \\\n",
       "0                   0                   0                         1   \n",
       "1                   0                   0                         0   \n",
       "2                   0                   0                         0   \n",
       "3                   0                   0                         0   \n",
       "4                   0                   0                         0   \n",
       "\n",
       "   Type of skill_SKILL_READ  Type of skill_SOFT  Type of skill_TRAF  \\\n",
       "0                         0                   0                   0   \n",
       "1                         1                   0                   0   \n",
       "2                         1                   0                   0   \n",
       "3                         1                   0                   0   \n",
       "4                         1                   0                   0   \n",
       "\n",
       "   Units_CON_USD  Units_PERCENT  Units_Ratio  \n",
       "0              0              1            0  \n",
       "1              0              1            0  \n",
       "2              0              1            0  \n",
       "3              0              1            0  \n",
       "4              0              1            0  \n",
       "\n",
       "[5 rows x 233 columns]"
      ]
     },
     "execution_count": 80,
     "metadata": {},
     "output_type": "execute_result"
    }
   ],
   "source": [
    "df_dummies.head()"
   ]
  },
  {
   "cell_type": "code",
   "execution_count": 82,
   "metadata": {},
   "outputs": [],
   "source": [
    "df_dummies.to_csv(\"onehotencoded_requiredcountries_v2.csv\")"
   ]
  },
  {
   "cell_type": "markdown",
   "metadata": {},
   "source": [
    "# Cleaning Function"
   ]
  },
  {
   "cell_type": "code",
   "execution_count": 86,
   "metadata": {},
   "outputs": [],
   "source": [
    "def clean_data(df, columns_removed, countries_retained):\n",
    "    # Remove Unnamed columns\n",
    "    df = df.loc[:, ~df.columns.str.contains('^Unnamed')]\n",
    "    \n",
    "    # Remove columns\n",
    "    # columns_removed = [\"Goal\", \"TimeCoverage\", \"UpperBound\", \"LowerBound\", \"GeoInfoUrl\", \"Reporting Type\", \"Time_Detail\", \"GeoAreaCode\", \"Source\", \"SeriesDescription\", \"BasePeriod\", \"Age\"]\n",
    "    df = df.drop(columns_removed, axis=1)\n",
    "    \n",
    "    # Retain the required countries\n",
    "    df = df[df.GeoAreaName.isin(countries_retained)]\n",
    "    \n",
    "    return df"
   ]
  },
  {
   "cell_type": "markdown",
   "metadata": {},
   "source": [
    "# Main Function"
   ]
  },
  {
   "cell_type": "code",
   "execution_count": 148,
   "metadata": {},
   "outputs": [
    {
     "name": "stdout",
     "output_type": "stream",
     "text": [
      "(152207, 14)\n",
      "Index(['Target', 'Indicator', 'SeriesCode', 'GeoAreaName', 'TimePeriod',\n",
      "       'Value', 'FootNote', 'Education level', 'Location', 'Nature',\n",
      "       'Quantile', 'Sex', 'Type of skill', 'Units'],\n",
      "      dtype='object')\n"
     ]
    }
   ],
   "source": [
    "columns_removed = [\"Goal\", \"TimeCoverage\", \"UpperBound\", \"LowerBound\", \"GeoInfoUrl\", \"Reporting Type\", \"Time_Detail\", \"GeoAreaCode\", \"Source\", \"SeriesDescription\", \"BasePeriod\", \"Age\"]\n",
    "countries = ['Democratic Republic of the Congo', 'Micronesia', 'Afghanistan', 'Albania', 'Algeria', 'Angola', 'Antigua and Barbuda', 'Argentina', 'Armenia', 'Azerbaijan', 'Bangladesh', \n",
    "             'Belarus', 'Belize', 'Benin', 'Bhutan','Bolivia', 'Bosnia and Herzegovina', 'Botswana', 'Brazil', 'Bulgaria', 'Burkina Faso', 'Burundi', \n",
    "             'Cabo Verde', 'Cambodia', 'Cameroon', 'Central African Republic', 'Chad', 'Chile', 'China', 'Colombia', 'Comoros', 'Congo','Congo, Democratic Republic', 'Costa Rica', 'Croatia', \"Côte d'Ivoire\", 'Djibouti', 'Dominica', 'Dominican Republic', 'Ecuador', 'Egypt', 'El Salvador', 'Equatorial Guinea', 'Eritrea', 'Eswatini', 'Ethiopia', 'Fiji', 'Gabon', 'Gambia', 'Georgia', 'Ghana', 'Grenada', 'Guatemala', 'Guinea', 'Guinea-Bissau', 'Guyana', 'Haiti', 'Honduras', 'India', 'Indonesia', 'Iran (Islamic Republic of)', 'Iraq', 'Jamaica', 'Jordan', 'Kazakhstan', 'Kenya', 'Kiribati', 'Kosovo', 'Kyrgyzstan', \"Lao People's Democratic Republic\", 'Lebanon', 'Lesotho', 'Liberia', 'Libya', 'Madagascar', 'Malawi', 'Malaysia', 'Maldives', 'Mali', 'Marshall Islands', 'Mauritania', 'Mauritius', 'Mexico', 'Micronesia (Federated States of)','Moldova', 'Mongolia', 'Montenegro', 'Morocco', 'Mozambique', 'Myanmar', 'Namibia', 'Nauru', 'Nepal', 'Nicaragua', 'Niger', 'Nigeria', 'North Macedonia', 'Pakistan', 'Palau', 'Panama', 'Papua New Guinea', 'Paraguay', 'Peru', 'Philippines', 'Poland', 'Romania', 'Russian Federation', 'Rwanda', 'Saint Kitts and Nevis', 'Saint Lucia', 'Saint Vincent and the Grenadines', 'Samoa', 'Sao Tome and Principe', 'Senegal', 'Serbia', 'Seychelles', 'Sierra Leone', 'Solomon Islands', 'Somalia', 'South Africa', 'South Sudan', 'Sri Lanka', 'Sudan', 'Suriname', 'Syrian Arab Republic', 'Tajikistan', 'Thailand', 'Timor-Leste', 'Togo', 'Tonga', 'Trinidad and Tobago', 'Tunisia', 'Turkey', 'Turkmenistan', 'Tuvalu', 'Uganda', 'Ukraine', 'United Republic of Tanzania', 'Uruguay', 'Uzbekistan', 'Vanuatu','Venezuela', 'Vietnam', 'Yemen', 'Zambia', 'Zimbabwe']\n",
    "\n",
    "df_cleaned = clean_data(Goal4, columns_removed, countries)\n",
    "print(df_cleaned.shape)\n",
    "print(df_cleaned.columns)"
   ]
  },
  {
   "cell_type": "code",
   "execution_count": 151,
   "metadata": {},
   "outputs": [
    {
     "data": {
      "text/plain": [
       "Index(['Target', 'Indicator', 'SeriesCode', 'GeoAreaName', 'TimePeriod',\n",
       "       'Value', 'FootNote', 'Education level', 'Location', 'Nature',\n",
       "       'Quantile', 'Sex', 'Type of skill', 'Units'],\n",
       "      dtype='object')"
      ]
     },
     "execution_count": 151,
     "metadata": {},
     "output_type": "execute_result"
    }
   ],
   "source": [
    "df_cleaned.columns"
   ]
  },
  {
   "cell_type": "code",
   "execution_count": 169,
   "metadata": {},
   "outputs": [
    {
     "data": {
      "text/plain": [
       "(152207, 1)"
      ]
     },
     "execution_count": 169,
     "metadata": {},
     "output_type": "execute_result"
    }
   ],
   "source": [
    "# Cutting out the footnote\n",
    "df_cleaned[[\"FootNote\"]].shape"
   ]
  },
  {
   "cell_type": "code",
   "execution_count": 167,
   "metadata": {},
   "outputs": [
    {
     "data": {
      "text/plain": [
       "(172758, 14)"
      ]
     },
     "execution_count": 167,
     "metadata": {},
     "output_type": "execute_result"
    }
   ],
   "source": [
    "pd.concat([df_scaled, df_cleaned[[\"FootNote\"]]], axis=1).shape"
   ]
  },
  {
   "cell_type": "code",
   "execution_count": 168,
   "metadata": {},
   "outputs": [
    {
     "data": {
      "text/plain": [
       "(152207, 13)"
      ]
     },
     "execution_count": 168,
     "metadata": {},
     "output_type": "execute_result"
    }
   ],
   "source": [
    "df_scaled.shape"
   ]
  },
  {
   "cell_type": "code",
   "execution_count": 172,
   "metadata": {},
   "outputs": [],
   "source": [
    "df_imputed = pd.read_csv(\"Imputed_KNN1.csv\")"
   ]
  },
  {
   "cell_type": "code",
   "execution_count": 173,
   "metadata": {},
   "outputs": [
    {
     "data": {
      "text/html": [
       "<div>\n",
       "<style scoped>\n",
       "    .dataframe tbody tr th:only-of-type {\n",
       "        vertical-align: middle;\n",
       "    }\n",
       "\n",
       "    .dataframe tbody tr th {\n",
       "        vertical-align: top;\n",
       "    }\n",
       "\n",
       "    .dataframe thead th {\n",
       "        text-align: right;\n",
       "    }\n",
       "</style>\n",
       "<table border=\"1\" class=\"dataframe\">\n",
       "  <thead>\n",
       "    <tr style=\"text-align: right;\">\n",
       "      <th></th>\n",
       "      <th>Unnamed: 0</th>\n",
       "      <th>Value</th>\n",
       "      <th>target_variable</th>\n",
       "      <th>SeriesCode_DC_TOF_SCHIPSL</th>\n",
       "      <th>SeriesCode_SE_ACC_HNDWSH</th>\n",
       "      <th>SeriesCode_SE_ACS_CMPTR</th>\n",
       "      <th>SeriesCode_SE_ACS_ELECT</th>\n",
       "      <th>SeriesCode_SE_ACS_H2O</th>\n",
       "      <th>SeriesCode_SE_ACS_INTNT</th>\n",
       "      <th>SeriesCode_SE_ACS_SANIT</th>\n",
       "      <th>...</th>\n",
       "      <th>Type of skill_LITE</th>\n",
       "      <th>Type of skill_NUME</th>\n",
       "      <th>Type of skill_PCPR</th>\n",
       "      <th>Type of skill_SKILL_MATH</th>\n",
       "      <th>Type of skill_SKILL_READ</th>\n",
       "      <th>Type of skill_SOFT</th>\n",
       "      <th>Type of skill_TRAF</th>\n",
       "      <th>Units_CON_USD</th>\n",
       "      <th>Units_PERCENT</th>\n",
       "      <th>Units_Ratio</th>\n",
       "    </tr>\n",
       "  </thead>\n",
       "  <tbody>\n",
       "    <tr>\n",
       "      <th>0</th>\n",
       "      <td>0</td>\n",
       "      <td>0.110</td>\n",
       "      <td>0.0</td>\n",
       "      <td>0.0</td>\n",
       "      <td>0.0</td>\n",
       "      <td>0.0</td>\n",
       "      <td>0.0</td>\n",
       "      <td>0.0</td>\n",
       "      <td>0.0</td>\n",
       "      <td>0.0</td>\n",
       "      <td>...</td>\n",
       "      <td>0.0</td>\n",
       "      <td>0.0</td>\n",
       "      <td>0.0</td>\n",
       "      <td>1.0</td>\n",
       "      <td>0.0</td>\n",
       "      <td>0.0</td>\n",
       "      <td>0.0</td>\n",
       "      <td>0.0</td>\n",
       "      <td>1.0</td>\n",
       "      <td>0.0</td>\n",
       "    </tr>\n",
       "    <tr>\n",
       "      <th>1</th>\n",
       "      <td>1</td>\n",
       "      <td>0.130</td>\n",
       "      <td>0.0</td>\n",
       "      <td>0.0</td>\n",
       "      <td>0.0</td>\n",
       "      <td>0.0</td>\n",
       "      <td>0.0</td>\n",
       "      <td>0.0</td>\n",
       "      <td>0.0</td>\n",
       "      <td>0.0</td>\n",
       "      <td>...</td>\n",
       "      <td>0.0</td>\n",
       "      <td>0.0</td>\n",
       "      <td>0.0</td>\n",
       "      <td>0.0</td>\n",
       "      <td>1.0</td>\n",
       "      <td>0.0</td>\n",
       "      <td>0.0</td>\n",
       "      <td>0.0</td>\n",
       "      <td>1.0</td>\n",
       "      <td>0.0</td>\n",
       "    </tr>\n",
       "    <tr>\n",
       "      <th>2</th>\n",
       "      <td>2</td>\n",
       "      <td>0.215</td>\n",
       "      <td>0.0</td>\n",
       "      <td>0.0</td>\n",
       "      <td>0.0</td>\n",
       "      <td>0.0</td>\n",
       "      <td>0.0</td>\n",
       "      <td>0.0</td>\n",
       "      <td>0.0</td>\n",
       "      <td>0.0</td>\n",
       "      <td>...</td>\n",
       "      <td>0.0</td>\n",
       "      <td>0.0</td>\n",
       "      <td>0.0</td>\n",
       "      <td>0.0</td>\n",
       "      <td>1.0</td>\n",
       "      <td>0.0</td>\n",
       "      <td>0.0</td>\n",
       "      <td>0.0</td>\n",
       "      <td>1.0</td>\n",
       "      <td>0.0</td>\n",
       "    </tr>\n",
       "    <tr>\n",
       "      <th>3</th>\n",
       "      <td>3</td>\n",
       "      <td>0.225</td>\n",
       "      <td>0.0</td>\n",
       "      <td>0.0</td>\n",
       "      <td>0.0</td>\n",
       "      <td>0.0</td>\n",
       "      <td>0.0</td>\n",
       "      <td>0.0</td>\n",
       "      <td>0.0</td>\n",
       "      <td>0.0</td>\n",
       "      <td>...</td>\n",
       "      <td>0.0</td>\n",
       "      <td>0.0</td>\n",
       "      <td>0.0</td>\n",
       "      <td>0.0</td>\n",
       "      <td>1.0</td>\n",
       "      <td>0.0</td>\n",
       "      <td>0.0</td>\n",
       "      <td>0.0</td>\n",
       "      <td>1.0</td>\n",
       "      <td>0.0</td>\n",
       "    </tr>\n",
       "    <tr>\n",
       "      <th>4</th>\n",
       "      <td>4</td>\n",
       "      <td>0.220</td>\n",
       "      <td>0.0</td>\n",
       "      <td>0.0</td>\n",
       "      <td>0.0</td>\n",
       "      <td>0.0</td>\n",
       "      <td>0.0</td>\n",
       "      <td>0.0</td>\n",
       "      <td>0.0</td>\n",
       "      <td>0.0</td>\n",
       "      <td>...</td>\n",
       "      <td>0.0</td>\n",
       "      <td>0.0</td>\n",
       "      <td>0.0</td>\n",
       "      <td>0.0</td>\n",
       "      <td>1.0</td>\n",
       "      <td>0.0</td>\n",
       "      <td>0.0</td>\n",
       "      <td>0.0</td>\n",
       "      <td>1.0</td>\n",
       "      <td>0.0</td>\n",
       "    </tr>\n",
       "  </tbody>\n",
       "</table>\n",
       "<p>5 rows × 211 columns</p>\n",
       "</div>"
      ],
      "text/plain": [
       "   Unnamed: 0  Value  target_variable  SeriesCode_DC_TOF_SCHIPSL  \\\n",
       "0           0  0.110              0.0                        0.0   \n",
       "1           1  0.130              0.0                        0.0   \n",
       "2           2  0.215              0.0                        0.0   \n",
       "3           3  0.225              0.0                        0.0   \n",
       "4           4  0.220              0.0                        0.0   \n",
       "\n",
       "   SeriesCode_SE_ACC_HNDWSH  SeriesCode_SE_ACS_CMPTR  SeriesCode_SE_ACS_ELECT  \\\n",
       "0                       0.0                      0.0                      0.0   \n",
       "1                       0.0                      0.0                      0.0   \n",
       "2                       0.0                      0.0                      0.0   \n",
       "3                       0.0                      0.0                      0.0   \n",
       "4                       0.0                      0.0                      0.0   \n",
       "\n",
       "   SeriesCode_SE_ACS_H2O  SeriesCode_SE_ACS_INTNT  SeriesCode_SE_ACS_SANIT  \\\n",
       "0                    0.0                      0.0                      0.0   \n",
       "1                    0.0                      0.0                      0.0   \n",
       "2                    0.0                      0.0                      0.0   \n",
       "3                    0.0                      0.0                      0.0   \n",
       "4                    0.0                      0.0                      0.0   \n",
       "\n",
       "   ...  Type of skill_LITE  Type of skill_NUME  Type of skill_PCPR  \\\n",
       "0  ...                 0.0                 0.0                 0.0   \n",
       "1  ...                 0.0                 0.0                 0.0   \n",
       "2  ...                 0.0                 0.0                 0.0   \n",
       "3  ...                 0.0                 0.0                 0.0   \n",
       "4  ...                 0.0                 0.0                 0.0   \n",
       "\n",
       "   Type of skill_SKILL_MATH  Type of skill_SKILL_READ  Type of skill_SOFT  \\\n",
       "0                       1.0                       0.0                 0.0   \n",
       "1                       0.0                       1.0                 0.0   \n",
       "2                       0.0                       1.0                 0.0   \n",
       "3                       0.0                       1.0                 0.0   \n",
       "4                       0.0                       1.0                 0.0   \n",
       "\n",
       "   Type of skill_TRAF  Units_CON_USD  Units_PERCENT  Units_Ratio  \n",
       "0                 0.0            0.0            1.0          0.0  \n",
       "1                 0.0            0.0            1.0          0.0  \n",
       "2                 0.0            0.0            1.0          0.0  \n",
       "3                 0.0            0.0            1.0          0.0  \n",
       "4                 0.0            0.0            1.0          0.0  \n",
       "\n",
       "[5 rows x 211 columns]"
      ]
     },
     "execution_count": 173,
     "metadata": {},
     "output_type": "execute_result"
    }
   ],
   "source": [
    "df_imputed.head()"
   ]
  },
  {
   "cell_type": "code",
   "execution_count": 187,
   "metadata": {},
   "outputs": [
    {
     "data": {
      "text/plain": [
       "array([nan,\n",
       "       'This data point is NOT APPLICABLE for the submitting nation.',\n",
       "       'This should be treated as NIL.',\n",
       "       'Based on youngest child aged 36-59 months in the household',\n",
       "       'Based on oldest child aged 36-59 months in the household',\n",
       "       'Based on youngest child aged 36-47 months in the household',\n",
       "       'age 15-49',\n",
       "       'Gross disbursements | Based on OECD, CRS databased, 2020 | Constant 2018 USD million'],\n",
       "      dtype=object)"
      ]
     },
     "execution_count": 187,
     "metadata": {},
     "output_type": "execute_result"
    }
   ],
   "source": [
    "df_cleaned.FootNote.unique()"
   ]
  },
  {
   "cell_type": "code",
   "execution_count": 174,
   "metadata": {},
   "outputs": [],
   "source": [
    "df_imputed[\"Footnote\"] = df_cleaned[[\"FootNote\"]]"
   ]
  },
  {
   "cell_type": "code",
   "execution_count": 190,
   "metadata": {},
   "outputs": [],
   "source": [
    "df_imputed[\"TimePeriod\"] = df_cleaned[[\"TimePeriod\"]]"
   ]
  },
  {
   "cell_type": "code",
   "execution_count": 192,
   "metadata": {},
   "outputs": [],
   "source": [
    "df_imputed_mod = df_imputed[~df_imputed.Footnote.isin(['This data point is NOT APPLICABLE for the submitting nation.',\n",
    "       'This should be treated as NIL.'])]"
   ]
  },
  {
   "cell_type": "code",
   "execution_count": 191,
   "metadata": {},
   "outputs": [
    {
     "data": {
      "text/plain": [
       "(152207, 213)"
      ]
     },
     "execution_count": 191,
     "metadata": {},
     "output_type": "execute_result"
    }
   ],
   "source": [
    "df_imputed.shape"
   ]
  },
  {
   "cell_type": "code",
   "execution_count": null,
   "metadata": {},
   "outputs": [],
   "source": []
  },
  {
   "cell_type": "code",
   "execution_count": 193,
   "metadata": {},
   "outputs": [],
   "source": [
    "df_imputed_mod.to_csv(\"modified_imputed_data.csv\")"
   ]
  },
  {
   "cell_type": "markdown",
   "metadata": {},
   "source": [
    "### One hot encoding for categorical variables"
   ]
  },
  {
   "cell_type": "code",
   "execution_count": 140,
   "metadata": {},
   "outputs": [
    {
     "data": {
      "text/plain": [
       "Index(['Unnamed: 0', 'Target', 'Indicator', 'SeriesCode', 'GeoAreaName',\n",
       "       'TimePeriod', 'Value', 'Education.level', 'Location', 'Nature',\n",
       "       'Quantile', 'Sex', 'Type.of.skill', 'Units'],\n",
       "      dtype='object')"
      ]
     },
     "execution_count": 140,
     "metadata": {},
     "output_type": "execute_result"
    }
   ],
   "source": [
    "df_scaled.columns"
   ]
  },
  {
   "cell_type": "code",
   "execution_count": 143,
   "metadata": {},
   "outputs": [
    {
     "data": {
      "text/html": [
       "<div>\n",
       "<style scoped>\n",
       "    .dataframe tbody tr th:only-of-type {\n",
       "        vertical-align: middle;\n",
       "    }\n",
       "\n",
       "    .dataframe tbody tr th {\n",
       "        vertical-align: top;\n",
       "    }\n",
       "\n",
       "    .dataframe thead th {\n",
       "        text-align: right;\n",
       "    }\n",
       "</style>\n",
       "<table border=\"1\" class=\"dataframe\">\n",
       "  <thead>\n",
       "    <tr style=\"text-align: right;\">\n",
       "      <th></th>\n",
       "      <th>TimePeriod</th>\n",
       "      <th>Value</th>\n",
       "      <th>Target_4.1</th>\n",
       "      <th>Target_4.5</th>\n",
       "      <th>Target_4.1</th>\n",
       "      <th>Target_4.2</th>\n",
       "      <th>Target_4.3</th>\n",
       "      <th>Target_4.4</th>\n",
       "      <th>Target_4.5</th>\n",
       "      <th>Target_4.6</th>\n",
       "      <th>...</th>\n",
       "      <th>Type of skill_LITE</th>\n",
       "      <th>Type of skill_NUME</th>\n",
       "      <th>Type of skill_PCPR</th>\n",
       "      <th>Type of skill_SKILL_MATH</th>\n",
       "      <th>Type of skill_SKILL_READ</th>\n",
       "      <th>Type of skill_SOFT</th>\n",
       "      <th>Type of skill_TRAF</th>\n",
       "      <th>Units_CON_USD</th>\n",
       "      <th>Units_PERCENT</th>\n",
       "      <th>Units_Ratio</th>\n",
       "    </tr>\n",
       "  </thead>\n",
       "  <tbody>\n",
       "    <tr>\n",
       "      <th>0</th>\n",
       "      <td>2013</td>\n",
       "      <td>0.110</td>\n",
       "      <td>1</td>\n",
       "      <td>0</td>\n",
       "      <td>0</td>\n",
       "      <td>0</td>\n",
       "      <td>0</td>\n",
       "      <td>0</td>\n",
       "      <td>0</td>\n",
       "      <td>0</td>\n",
       "      <td>...</td>\n",
       "      <td>0</td>\n",
       "      <td>0</td>\n",
       "      <td>0</td>\n",
       "      <td>1</td>\n",
       "      <td>0</td>\n",
       "      <td>0</td>\n",
       "      <td>0</td>\n",
       "      <td>0</td>\n",
       "      <td>1</td>\n",
       "      <td>0</td>\n",
       "    </tr>\n",
       "    <tr>\n",
       "      <th>1</th>\n",
       "      <td>2013</td>\n",
       "      <td>0.130</td>\n",
       "      <td>1</td>\n",
       "      <td>0</td>\n",
       "      <td>0</td>\n",
       "      <td>0</td>\n",
       "      <td>0</td>\n",
       "      <td>0</td>\n",
       "      <td>0</td>\n",
       "      <td>0</td>\n",
       "      <td>...</td>\n",
       "      <td>0</td>\n",
       "      <td>0</td>\n",
       "      <td>0</td>\n",
       "      <td>0</td>\n",
       "      <td>1</td>\n",
       "      <td>0</td>\n",
       "      <td>0</td>\n",
       "      <td>0</td>\n",
       "      <td>1</td>\n",
       "      <td>0</td>\n",
       "    </tr>\n",
       "    <tr>\n",
       "      <th>2</th>\n",
       "      <td>2016</td>\n",
       "      <td>0.215</td>\n",
       "      <td>1</td>\n",
       "      <td>0</td>\n",
       "      <td>0</td>\n",
       "      <td>0</td>\n",
       "      <td>0</td>\n",
       "      <td>0</td>\n",
       "      <td>0</td>\n",
       "      <td>0</td>\n",
       "      <td>...</td>\n",
       "      <td>0</td>\n",
       "      <td>0</td>\n",
       "      <td>0</td>\n",
       "      <td>0</td>\n",
       "      <td>1</td>\n",
       "      <td>0</td>\n",
       "      <td>0</td>\n",
       "      <td>0</td>\n",
       "      <td>1</td>\n",
       "      <td>0</td>\n",
       "    </tr>\n",
       "    <tr>\n",
       "      <th>3</th>\n",
       "      <td>2016</td>\n",
       "      <td>0.225</td>\n",
       "      <td>1</td>\n",
       "      <td>0</td>\n",
       "      <td>0</td>\n",
       "      <td>0</td>\n",
       "      <td>0</td>\n",
       "      <td>0</td>\n",
       "      <td>0</td>\n",
       "      <td>0</td>\n",
       "      <td>...</td>\n",
       "      <td>0</td>\n",
       "      <td>0</td>\n",
       "      <td>0</td>\n",
       "      <td>0</td>\n",
       "      <td>1</td>\n",
       "      <td>0</td>\n",
       "      <td>0</td>\n",
       "      <td>0</td>\n",
       "      <td>1</td>\n",
       "      <td>0</td>\n",
       "    </tr>\n",
       "    <tr>\n",
       "      <th>4</th>\n",
       "      <td>2016</td>\n",
       "      <td>0.220</td>\n",
       "      <td>1</td>\n",
       "      <td>0</td>\n",
       "      <td>0</td>\n",
       "      <td>0</td>\n",
       "      <td>0</td>\n",
       "      <td>0</td>\n",
       "      <td>0</td>\n",
       "      <td>0</td>\n",
       "      <td>...</td>\n",
       "      <td>0</td>\n",
       "      <td>0</td>\n",
       "      <td>0</td>\n",
       "      <td>0</td>\n",
       "      <td>1</td>\n",
       "      <td>0</td>\n",
       "      <td>0</td>\n",
       "      <td>0</td>\n",
       "      <td>1</td>\n",
       "      <td>0</td>\n",
       "    </tr>\n",
       "  </tbody>\n",
       "</table>\n",
       "<p>5 rows × 232 columns</p>\n",
       "</div>"
      ],
      "text/plain": [
       "   TimePeriod  Value  Target_4.1  Target_4.5  Target_4.1  Target_4.2  \\\n",
       "0        2013  0.110           1           0           0           0   \n",
       "1        2013  0.130           1           0           0           0   \n",
       "2        2016  0.215           1           0           0           0   \n",
       "3        2016  0.225           1           0           0           0   \n",
       "4        2016  0.220           1           0           0           0   \n",
       "\n",
       "   Target_4.3  Target_4.4  Target_4.5  Target_4.6  ...  Type of skill_LITE  \\\n",
       "0           0           0           0           0  ...                   0   \n",
       "1           0           0           0           0  ...                   0   \n",
       "2           0           0           0           0  ...                   0   \n",
       "3           0           0           0           0  ...                   0   \n",
       "4           0           0           0           0  ...                   0   \n",
       "\n",
       "   Type of skill_NUME  Type of skill_PCPR  Type of skill_SKILL_MATH  \\\n",
       "0                   0                   0                         1   \n",
       "1                   0                   0                         0   \n",
       "2                   0                   0                         0   \n",
       "3                   0                   0                         0   \n",
       "4                   0                   0                         0   \n",
       "\n",
       "   Type of skill_SKILL_READ  Type of skill_SOFT  Type of skill_TRAF  \\\n",
       "0                         0                   0                   0   \n",
       "1                         1                   0                   0   \n",
       "2                         1                   0                   0   \n",
       "3                         1                   0                   0   \n",
       "4                         1                   0                   0   \n",
       "\n",
       "   Units_CON_USD  Units_PERCENT  Units_Ratio  \n",
       "0              0              1            0  \n",
       "1              0              1            0  \n",
       "2              0              1            0  \n",
       "3              0              1            0  \n",
       "4              0              1            0  \n",
       "\n",
       "[5 rows x 232 columns]"
      ]
     },
     "execution_count": 143,
     "metadata": {},
     "output_type": "execute_result"
    }
   ],
   "source": [
    "# df_scaled.rename(columns = {\"Education.level\": \"Education level\", \"Type.of.skill\": \"Type of skill\"}, \n",
    "#           inplace = True)\n",
    "df_scaled = df_scaled.drop([\"Unnamed: 0\"], axis=1)\n",
    "\n",
    "df_dummies = df_scaled\n",
    "# Pick only categorical columns for one-hot encoding\n",
    "categorical_columns = [\"Indicator\", \"SeriesCode\", \"GeoAreaName\", \"Education level\", \"Location\",\n",
    "       \"Nature\", \"Quantile\", \"Sex\", \"Type of skill\", \"Units\"]\n",
    "\n",
    "for col in categorical_columns:\n",
    "    df_dummies = pd.concat([df_dummies.drop([col], axis=1), pd.get_dummies(df_dummies[col], prefix=col)], axis=1)\n",
    "\n",
    "df_dummies.head()"
   ]
  },
  {
   "cell_type": "code",
   "execution_count": 144,
   "metadata": {},
   "outputs": [],
   "source": [
    "df_dummies.to_csv(\"onehotencoded_scaled_cleaned.csv\")\n",
    "df_scaled.to_csv(\"cleaned_scaled_datav2.csv\")"
   ]
  },
  {
   "cell_type": "markdown",
   "metadata": {},
   "source": [
    "## Visualization of data"
   ]
  },
  {
   "cell_type": "code",
   "execution_count": 116,
   "metadata": {},
   "outputs": [
    {
     "name": "stdout",
     "output_type": "stream",
     "text": [
      "(191762, 26)\n"
     ]
    }
   ],
   "source": [
    "df_data = Goal4.loc[:, ~Goal4.columns.str.contains('^Unnamed')]\n",
    "print(df_data.shape)"
   ]
  },
  {
   "cell_type": "code",
   "execution_count": 117,
   "metadata": {},
   "outputs": [],
   "source": [
    "columns = df_data.columns"
   ]
  },
  {
   "cell_type": "code",
   "execution_count": 118,
   "metadata": {},
   "outputs": [],
   "source": [
    "missingvalues = dict()\n",
    "for feature in columns:\n",
    "    missingvalues[feature] = df_data[feature].isnull().sum()"
   ]
  },
  {
   "cell_type": "code",
   "execution_count": 119,
   "metadata": {},
   "outputs": [],
   "source": [
    "df = pd.DataFrame(list(missingvalues.items()))\n",
    "df.columns =[\"Features\",\"Count\"]\n",
    "\n",
    "# sort df by Count column\n",
    "df = df.sort_values(by=[\"Count\"], ascending=False).reset_index(drop=True)"
   ]
  },
  {
   "cell_type": "code",
   "execution_count": 120,
   "metadata": {},
   "outputs": [
    {
     "data": {
      "text/html": [
       "<div>\n",
       "<style scoped>\n",
       "    .dataframe tbody tr th:only-of-type {\n",
       "        vertical-align: middle;\n",
       "    }\n",
       "\n",
       "    .dataframe tbody tr th {\n",
       "        vertical-align: top;\n",
       "    }\n",
       "\n",
       "    .dataframe thead th {\n",
       "        text-align: right;\n",
       "    }\n",
       "</style>\n",
       "<table border=\"1\" class=\"dataframe\">\n",
       "  <thead>\n",
       "    <tr style=\"text-align: right;\">\n",
       "      <th></th>\n",
       "      <th>Features</th>\n",
       "      <th>Count</th>\n",
       "    </tr>\n",
       "  </thead>\n",
       "  <tbody>\n",
       "    <tr>\n",
       "      <th>0</th>\n",
       "      <td>GeoInfoUrl</td>\n",
       "      <td>191762</td>\n",
       "    </tr>\n",
       "    <tr>\n",
       "      <th>1</th>\n",
       "      <td>TimeCoverage</td>\n",
       "      <td>191762</td>\n",
       "    </tr>\n",
       "    <tr>\n",
       "      <th>2</th>\n",
       "      <td>UpperBound</td>\n",
       "      <td>191762</td>\n",
       "    </tr>\n",
       "    <tr>\n",
       "      <th>3</th>\n",
       "      <td>LowerBound</td>\n",
       "      <td>191762</td>\n",
       "    </tr>\n",
       "    <tr>\n",
       "      <th>4</th>\n",
       "      <td>Age</td>\n",
       "      <td>191281</td>\n",
       "    </tr>\n",
       "  </tbody>\n",
       "</table>\n",
       "</div>"
      ],
      "text/plain": [
       "       Features   Count\n",
       "0    GeoInfoUrl  191762\n",
       "1  TimeCoverage  191762\n",
       "2    UpperBound  191762\n",
       "3    LowerBound  191762\n",
       "4           Age  191281"
      ]
     },
     "execution_count": 120,
     "metadata": {},
     "output_type": "execute_result"
    }
   ],
   "source": [
    "df.head()"
   ]
  },
  {
   "cell_type": "code",
   "execution_count": 130,
   "metadata": {},
   "outputs": [
    {
     "data": {
      "image/png": "[encoded data removed]",
      "text/plain": [
       "<Figure size 720x1440 with 1 Axes>"
      ]
     },
     "metadata": {
      "needs_background": "light"
     },
     "output_type": "display_data"
    }
   ],
   "source": [
    "plt.figure(figsize=(10,20))\n",
    "scalar_points = [*range(len(df[\"Features\"].values))]\n",
    "plt.barh(scalar_points, df[\"Count\"].values)\n",
    "plt.yticks(scalar_points, df[\"Features\"].values)\n",
    "plt.xticks(np.arange(min(df[\"Count\"].values), max(df[\"Count\"].values)+1, 100000))\n",
    "\n",
    "plt.tight_layout()\n",
    "plt.savefig(\"missing_values.png\", dpi=100)\n",
    "plt.show()"
   ]
  },
  {
   "cell_type": "code",
   "execution_count": 126,
   "metadata": {},
   "outputs": [
    {
     "data": {
      "text/plain": [
       "<Figure size 432x288 with 0 Axes>"
      ]
     },
     "metadata": {},
     "output_type": "display_data"
    }
   ],
   "source": [
    "plt.savefig(\"missing_values.png\")"
   ]
  },
  {
   "cell_type": "markdown",
   "metadata": {},
   "source": [
    "### Analysis on missing information\n",
    "1. Units, Indicator, SeriesCode, SeriesDescription, GeoAreaCode, GeoAreaName, TimePeriod, TimeDetail, Target, Source, Goal, Nature, Reporting Type have no missing values.\n",
    "1. Even if \"Footnote\" has many missing values, the remaining information is crucial in removing unnecessary data."
   ]
  },
  {
   "cell_type": "code",
   "execution_count": null,
   "metadata": {},
   "outputs": [],
   "source": []
  }
 ],
 "metadata": {
  "kernelspec": {
   "display_name": "Python 3",
   "language": "python",
   "name": "python3"
  },
  "language_info": {
   "codemirror_mode": {
    "name": "ipython",
    "version": 3
   },
   "file_extension": ".py",
   "mimetype": "text/x-python",
   "name": "python",
   "nbconvert_exporter": "python",
   "pygments_lexer": "ipython3",
   "version": "3.9.0"
  }
 },
 "nbformat": 4,
 "nbformat_minor": 4
}
